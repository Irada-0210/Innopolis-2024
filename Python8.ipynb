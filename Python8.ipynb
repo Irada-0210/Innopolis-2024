{
 "cells": [
  {
   "cell_type": "code",
   "execution_count": 2,
   "id": "663fc233",
   "metadata": {},
   "outputs": [],
   "source": [
    "import pandas as pd\n",
    "import numpy as np"
   ]
  },
  {
   "cell_type": "code",
   "execution_count": 3,
   "id": "f05cfc4c",
   "metadata": {},
   "outputs": [],
   "source": [
    "df_games = pd.read_excel(r\"C:\\Courses\\Innopolis\\2024\\ПИШ\\Часть 2.2\\Лекция 19\\sales_games.xlsx\")\n",
    "df_shops = pd.read_excel(r\"C:\\Courses\\Innopolis\\2024\\ПИШ\\Часть 2.2\\Лекция 19\\sales_by_shops.xlsx\")"
   ]
  }
 ],
 "metadata": {
  "kernelspec": {
   "display_name": "Python 3 (ipykernel)",
   "language": "python",
   "name": "python3"
  },
  "language_info": {
   "codemirror_mode": {
    "name": "ipython",
    "version": 3
   },
   "file_extension": ".py",
   "mimetype": "text/x-python",
   "name": "python",
   "nbconvert_exporter": "python",
   "pygments_lexer": "ipython3",
   "version": "3.11.5"
  }
 },
 "nbformat": 4,
 "nbformat_minor": 5
}
